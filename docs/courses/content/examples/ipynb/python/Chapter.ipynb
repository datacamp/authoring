{
  "cells": [
    {
      "cell_type": "raw",
      "metadata": {
        "collapsed": true,
        "tags": []
      },
      "source": "---\ntitle_meta: Chapter 1\ntitle: Python Basics\ndescription: An introduction to the basic concepts of Python. Learn how to use Python\n  both interactively and through a script. Create your first variables and acquaint\n  yourself with Python's basic data types.\nattachments:\n  slides_link: https://s3.amazonaws.com/assets.datacamp.com/course/intro_to_python/ch1_slides.pdf\n---"
    },
    {
      "cell_type": "markdown",
      "metadata": {
        "collapsed": true,
        "tags": [
          "type:VideoExercise",
          "lang:python",
          "xp:50",
          "skills:2",
          "key:d5509896f7"
        ]
      },
      "source": "## Hello Python!\n"
    },
    {
      "cell_type": "markdown",
      "metadata": {
        "collapsed": true,
        "tags": [
          "@video_link"
        ]
      },
      "source": "//player.vimeo.com/video/146994261\n"
    },
    {
      "cell_type": "markdown",
      "metadata": {
        "collapsed": true,
        "tags": [
          "@video_hls"
        ]
      },
      "source": "//videos.datacamp.com/transcoded/735_intro_to_python/v2/hls-ch1_1.master.m3u8\n"
    },
    {
      "cell_type": "markdown",
      "metadata": {
        "collapsed": true,
        "tags": [
          "type:NormalExercise",
          "lang:python",
          "xp:100",
          "skills:2",
          "key:bdc52f0e19"
        ]
      },
      "source": "## The Python Interface\n\nIn the Python script on the right, you can type Python code to solve the exercises. If you hit _Submit Answer_, your python script (`script.py`) is executed and the output is shown in the IPython Shell. DataCamp checks whether your submission is correct and gives you feedback.\n\nYou can hit _Submit Answer_ as often as you want. If you're stuck, you can click _Get Hint_, and ultimately _Get Solution_.\n\nYou can also use the IPython Shell interactively by simply typing commands and hitting Enter. When you work in the shell directly, your code will not be checked for correctness so it is a great way to experiment.\n"
    },
    {
      "cell_type": "markdown",
      "metadata": {
        "collapsed": true,
        "tags": [
          "@instructions"
        ]
      },
      "source": "- Experiment in the IPython Shell; type 5 / 8, for example.\n- Add another line of code to the Python script: `print(7 + 10)`.\n- Hit _Submit Answer_ to execute the Python script and receive feedback.\n"
    },
    {
      "cell_type": "markdown",
      "metadata": {
        "collapsed": true,
        "tags": [
          "@hint"
        ]
      },
      "source": "Simply add `print(7 + 10)` in the script on the right and hit 'Submit Answer'.\n"
    },
    {
      "cell_type": "code",
      "metadata": {
        "collapsed": true,
        "tags": [
          "@pre_exercise_code"
        ]
      },
      "source": "# pec comes here",
      "execution_count": null,
      "outputs": []
    },
    {
      "cell_type": "code",
      "metadata": {
        "collapsed": true,
        "tags": [
          "@sample_code"
        ]
      },
      "source": "# Example, do not modify!\nprint(5 / 8)\n\n# Put code below here\n",
      "execution_count": null,
      "outputs": []
    },
    {
      "cell_type": "code",
      "metadata": {
        "collapsed": true,
        "tags": [
          "@solution"
        ]
      },
      "source": "# Example, do not modify!\nprint(5 / 8)\n\n# Put code below here\nprint(7 + 10)",
      "execution_count": null,
      "outputs": []
    },
    {
      "cell_type": "code",
      "metadata": {
        "collapsed": true,
        "tags": [
          "@sct"
        ]
      },
      "source": "msg = \"Don't remove the first statement. It is an example which is coded for you!\"\ntest_function(\"print\", 1, not_called_msg = msg, incorrect_msg = msg)\n\nmsg = \"Have you added `print(7 + 10)` to the script, in addition to the `print()` command that was already there?\"\ntest_function(\"print\", 2, not_called_msg = msg, incorrect_msg = msg)\nsuccess_msg(\"Great!\")",
      "execution_count": null,
      "outputs": []
    },
    {
      "cell_type": "markdown",
      "metadata": {
        "collapsed": true,
        "tags": [
          "type:MultipleChoiceExercise",
          "lang:python",
          "xp:50",
          "skills:2",
          "key:9703b117fb"
        ]
      },
      "source": "## When to use Python?\n\nPython is a pretty versatile language. For what applications can you use Python?\n"
    },
    {
      "cell_type": "markdown",
      "metadata": {
        "collapsed": true,
        "tags": [
          "@instructions"
        ]
      },
      "source": "- You want to do some quick calculations.\n- For your new business, you want to develop a database-driven website.\n- Your boss asks you to clean and analyze the results of the latest satisfaction survey.\n- All of the above.\n"
    },
    {
      "cell_type": "markdown",
      "metadata": {
        "collapsed": true,
        "tags": [
          "@hint"
        ]
      },
      "source": "Filip mentioned in the video that Python can be used to build practically any piece of software.\n"
    },
    {
      "cell_type": "code",
      "metadata": {
        "collapsed": true,
        "tags": [
          "@pre_exercise_code"
        ]
      },
      "source": "# pec comes here",
      "execution_count": null,
      "outputs": []
    },
    {
      "cell_type": "code",
      "metadata": {
        "collapsed": true,
        "tags": [
          "@sct"
        ]
      },
      "source": "msg1 = \"Incorrect. Python can do simple and quick calculations, but it is much more than that!\"\nmsg2 = \"Incorrect. There is a very popular framework to build database-driven websites (Django), but Python can do much more.\"\nmsg3 = \"Incorrect. Python is a powerful tool to do data analysis, but you can also use it for other ends.\"\nmsg4 = \"Correct! Python is an extremely versatile language.\"\ntest_mc(4, [msg1, msg2, msg3, msg4])\n",
      "execution_count": null,
      "outputs": []
    },
    {
      "cell_type": "markdown",
      "metadata": {
        "collapsed": true,
        "tags": [
          "type:NormalExercise",
          "lang:python",
          "xp:100",
          "skills:2",
          "key:7c4a738a13"
        ]
      },
      "source": "## Any comments?\n\nSomething that Filip didn't mention in his videos is that you can add **comments** to your Python scripts. Comments are important to make sure that you and others can understand what your code is about.\n\nTo add comments to your Python script, you can use the `#` tag. These comments are not run as Python code, so they will not influence your result. As an example, take the comment on the right, `# Just testing division`: it is completely ignored during execution.\n"
    },
    {
      "cell_type": "markdown",
      "metadata": {
        "collapsed": true,
        "tags": [
          "@instructions"
        ]
      },
      "source": "Above the `print(7 + 10)`, add the comment `# Addition works too`.\n"
    },
    {
      "cell_type": "markdown",
      "metadata": {
        "collapsed": true,
        "tags": [
          "@hint"
        ]
      },
      "source": "For this exercise you only have to add one line of comments. It won't run as Python code. Add `# Addition works too` right above `print(7 + 10)`.\n"
    },
    {
      "cell_type": "code",
      "metadata": {
        "collapsed": true,
        "tags": [
          "@pre_exercise_code"
        ]
      },
      "source": "# pec comes here",
      "execution_count": null,
      "outputs": []
    },
    {
      "cell_type": "code",
      "metadata": {
        "collapsed": true,
        "tags": [
          "@sample_code"
        ]
      },
      "source": "# Just testing division\nprint(5 / 8)\n\n\nprint(7 + 10)",
      "execution_count": null,
      "outputs": []
    },
    {
      "cell_type": "code",
      "metadata": {
        "collapsed": true,
        "tags": [
          "@solution"
        ]
      },
      "source": "# Just testing division\nprint(5 / 8)\n\n# Addition works too\nprint(7 + 10)",
      "execution_count": null,
      "outputs": []
    },
    {
      "cell_type": "code",
      "metadata": {
        "collapsed": true,
        "tags": [
          "@sct"
        ]
      },
      "source": "test_student_typed(\"#\\s*(\\w+) works (\\w+)[\\s.!?]*print\\(7\", not_typed_msg = \"Make sure to add the instructed comment right before `print(7+10)`.\")\nsuccess_msg(\"Great!\")",
      "execution_count": null,
      "outputs": []
    },
    {
      "cell_type": "markdown",
      "metadata": {
        "collapsed": true,
        "tags": [
          "type:NormalExercise",
          "lang:python",
          "xp:100",
          "skills:2",
          "key:0f7c039428"
        ]
      },
      "source": "## Python as a calculator\n\nPython is perfectly suited to do basic calculations. Apart from addition, subtraction, multiplication and division, there is also support for more advanced operations such as:\n\n- Exponentiation: `**`. This operator raises the number to its left to the power of the number to its right: for example `4**2` will give `16`.\n- Modulo: `%`. It returns the remainder of the division of the number to the left by the number on its right, for example `18 % 7` equals `4`.\n\nThe code in the script on the right gives some examples.\n"
    },
    {
      "cell_type": "markdown",
      "metadata": {
        "collapsed": true,
        "tags": [
          "@instructions"
        ]
      },
      "source": "Suppose you have $100, which you can invest with a 10% return each year. After one year, it's $100 \\times 1.1 = 110$ dollars, and after two years it's $100 \\times 1.1 \\times 1.1 = 121$. Add code on the right to calculate how much money you end up with after 7 years.\n"
    },
    {
      "cell_type": "markdown",
      "metadata": {
        "collapsed": true,
        "tags": [
          "@hint"
        ]
      },
      "source": "After two years you have $100 \\times 1.1 \\times 1.1 = 100 \\times 1.1^2$. How much do you have after 7 years than? Use `*` and `**`.\n"
    },
    {
      "cell_type": "code",
      "metadata": {
        "collapsed": true,
        "tags": [
          "@pre_exercise_code"
        ]
      },
      "source": "# pec comes here",
      "execution_count": null,
      "outputs": []
    },
    {
      "cell_type": "code",
      "metadata": {
        "collapsed": true,
        "tags": [
          "@sample_code"
        ]
      },
      "source": "# Addition and subtraction\nprint(5 + 5)\nprint(5 - 5)\n\n# Multiplication and division\nprint(3 * 5)\nprint(10 / 2)\n\n# Exponentiation\nprint(4 ** 2)\n\n# Modulo\nprint(18 % 7)\n\n# How much is your $100 worth after 7 years?\n",
      "execution_count": null,
      "outputs": []
    },
    {
      "cell_type": "code",
      "metadata": {
        "collapsed": true,
        "tags": [
          "@solution"
        ]
      },
      "source": "# Addition and subtraction\nprint(5 + 5)\nprint(5 - 5)\n\n# Multiplication and division\nprint(3 * 5)\nprint(10 / 2)\n\n# Exponentiation\nprint(4 ** 2)\n\n# Modulo\nprint(18 % 7)\n\n# How much is your $100 worth after 7 years?\nprint(100 * 1.1 ** 7)",
      "execution_count": null,
      "outputs": []
    },
    {
      "cell_type": "code",
      "metadata": {
        "collapsed": true,
        "tags": [
          "@sct"
        ]
      },
      "source": "test_output_contains(\"194\\\\.8\", no_output_msg = \"Have you used the operation `100 * 1.1 ** 7` in a `print()` call?\")\nsuccess_msg(\"Time for another video!\")",
      "execution_count": null,
      "outputs": []
    },
    {
      "cell_type": "markdown",
      "metadata": {
        "collapsed": true,
        "tags": [
          "type:VideoExercise",
          "lang:python",
          "xp:50",
          "skills:2",
          "key:ef8356fb92"
        ]
      },
      "source": "## Variables & Types\n"
    },
    {
      "cell_type": "markdown",
      "metadata": {
        "collapsed": true,
        "tags": [
          "@video_link"
        ]
      },
      "source": "//player.vimeo.com/video/154561704\n"
    },
    {
      "cell_type": "markdown",
      "metadata": {
        "collapsed": true,
        "tags": [
          "@video_hls"
        ]
      },
      "source": "//videos.datacamp.com/transcoded/735_intro_to_python/v1/hls-ch1_2.master.m3u8\n\n"
    },
    {
      "cell_type": "markdown",
      "metadata": {
        "collapsed": true,
        "tags": [
          "type:NormalExercise",
          "lang:python",
          "xp:100",
          "skills:2",
          "key:4bf65ad83e"
        ]
      },
      "source": "## Variable Assignment\n\nIn Python, a variable allows you to refer to a value with a name. To create a variable use `=`, like this example:\n\n```\nx = 5\n```\n\nYou can now use the name of this variable, `x`, instead of the actual value, `5`.\n\nRemember, `=` in Python means _assignment_, not equality!\n"
    },
    {
      "cell_type": "markdown",
      "metadata": {
        "collapsed": true,
        "tags": [
          "@instructions"
        ]
      },
      "source": "- Create a variable `savings` with the value 100.\n- Check out this variable by typing `print(savings)` in the script.\n"
    },
    {
      "cell_type": "markdown",
      "metadata": {
        "collapsed": true,
        "tags": [
          "@hint"
        ]
      },
      "source": "- Type `savings = 100` to create the variable `savings`.\n- After creating the variable `savings`, you can type `print(savings)`.\n"
    },
    {
      "cell_type": "code",
      "metadata": {
        "collapsed": true,
        "tags": [
          "@pre_exercise_code"
        ]
      },
      "source": "# pec",
      "execution_count": null,
      "outputs": []
    },
    {
      "cell_type": "code",
      "metadata": {
        "collapsed": true,
        "tags": [
          "@sample_code"
        ]
      },
      "source": "# Create a variable savings\n\n\n# Print out savings\n",
      "execution_count": null,
      "outputs": []
    },
    {
      "cell_type": "code",
      "metadata": {
        "collapsed": true,
        "tags": [
          "@solution"
        ]
      },
      "source": "# Create a variable savings\nsavings = 100\n\n# Print out savings\nprint(savings)",
      "execution_count": null,
      "outputs": []
    },
    {
      "cell_type": "code",
      "metadata": {
        "collapsed": true,
        "tags": [
          "@sct"
        ]
      },
      "source": "test_object(\"savings\", incorrect_msg = \"Assign `100` to the variable `savings`.\")\ntest_function(\"print\", incorrect_msg = \"Print out `savings`, the variable you created, using `print(savings)`.\")\nsuccess_msg(\"Great! Let's try to do some calculations with this variable now!\")",
      "execution_count": null,
      "outputs": []
    },
    {
      "cell_type": "markdown",
      "metadata": {
        "collapsed": true,
        "tags": [
          "type:NormalExercise",
          "lang:python",
          "xp:100",
          "skills:2",
          "key:ff06cedeb4"
        ]
      },
      "source": "## Calculations with variables\n\nRemember how you calculated the money you ended up with after 7 years of investing $100? You did something like this:\n\n```\n100 * 1.10 ** 7\n```\n\nInstead of calculating with the actual values, you can use variables instead. The `savings` variable you've created in the previous exercise represents the $100 you started with. It's up to you to create a new variable to represent `1.10` and then redo the calculations!\n"
    },
    {
      "cell_type": "markdown",
      "metadata": {
        "collapsed": true,
        "tags": [
          "@instructions"
        ]
      },
      "source": "- Create a variable `factor`, equal to `1.10`.\n- Use `savings` and `factor` to calculate the amount of money you end up with after 7 years. Store the result in a new variable, `result`.\n- Print out the value of `result`.\n"
    },
    {
      "cell_type": "markdown",
      "metadata": {
        "collapsed": true,
        "tags": [
          "@hint"
        ]
      },
      "source": "- To create the variable `factor`, use `factor = 1.10`.\n- In the example code block of the assignment, replace `100` with `savings` and `1.10` with `factor`: `savings * factor ** 7`.\n- Use the [`print()`](https://docs.python.org/3/library/functions.html#print) function to print the value of a variable.\n"
    },
    {
      "cell_type": "code",
      "metadata": {
        "collapsed": true,
        "tags": [
          "@pre_exercise_code"
        ]
      },
      "source": "# pec",
      "execution_count": null,
      "outputs": []
    },
    {
      "cell_type": "code",
      "metadata": {
        "collapsed": true,
        "tags": [
          "@sample_code"
        ]
      },
      "source": "# Create a variable savings\nsavings = 100\n\n# Create a variable factor\n\n\n# Calculate result\n\n\n# Print out result",
      "execution_count": null,
      "outputs": []
    },
    {
      "cell_type": "code",
      "metadata": {
        "collapsed": true,
        "tags": [
          "@solution"
        ]
      },
      "source": "# Create a variable savings\nsavings = 100\n\n# Create a variable factor\nfactor = 1.1\n\n# Calculate result\nresult = savings * factor ** 7\n\n# Print out result\nprint(result)",
      "execution_count": null,
      "outputs": []
    },
    {
      "cell_type": "code",
      "metadata": {
        "collapsed": true,
        "tags": [
          "@sct"
        ]
      },
      "source": "test_object(\"savings\", undefined_msg = \"The variable `savings` was defined for you, don't remove it!\",\n                       incorrect_msg = \"The variable `savings` should be `100`, like it was defined for you.\")\ntest_object(\"factor\", incorrect_msg = \"The value of `factor` should be `1.1`.\")\ntest_object(\"result\", incorrect_msg = \"Have you used `*` and `**` to calculate `result`?\")\nmsg = \"Don't forget to print out `result` after assigning it.\"\ntest_print(not_called_msg = msg, incorrect_msg = msg)\nsuccess_msg(\"Great!\")",
      "execution_count": null,
      "outputs": []
    },
    {
      "cell_type": "markdown",
      "metadata": {
        "collapsed": true,
        "tags": [
          "type:NormalExercise",
          "lang:python",
          "xp:100",
          "skills:2",
          "key:006b48561f"
        ]
      },
      "source": "## Other variable types\n\nIn the previous exercise, you worked with two Python data types:\n\n- `int`, or integer: a number without a fractional part. `savings`, with the value `100`, is an example of an integer.\n- `float`, or floating point: a number that has both an integer and fractional part, separated by a point. `factor`, with the value `1.10`, is an example of a float.\n\nNext to numerical data types, there are two other very common data types:\n\n- `str`, or string: a type to represent text. You can use single or double quotes to build a string.\n- `bool`, or boolean: a type to represent logical values. Can only be `True` or `False` (the capitalization is important!).\n"
    },
    {
      "cell_type": "markdown",
      "metadata": {
        "collapsed": true,
        "tags": [
          "@instructions"
        ]
      },
      "source": "- Create a new string, `desc`, with the value `\"compound interest\"`.\n- Create a new boolean, `profitable`, with the value `True`.\n"
    },
    {
      "cell_type": "markdown",
      "metadata": {
        "collapsed": true,
        "tags": [
          "@hint"
        ]
      },
      "source": "- To create a variable in Python, use `=`. Make sure to wrap your string in single or double quotes.\n- Only two boolean values exist in Python: `True` and `False`. `TRUE`, `true`, `FALSE`, `false` and other versions will not be accepted.\n"
    },
    {
      "cell_type": "code",
      "metadata": {
        "collapsed": true,
        "tags": [
          "@pre_exercise_code"
        ]
      },
      "source": "# pec",
      "execution_count": null,
      "outputs": []
    },
    {
      "cell_type": "code",
      "metadata": {
        "collapsed": true,
        "tags": [
          "@sample_code"
        ]
      },
      "source": "# Create a variable desc\n\n\n# Create a variable profitable\n",
      "execution_count": null,
      "outputs": []
    },
    {
      "cell_type": "code",
      "metadata": {
        "collapsed": true,
        "tags": [
          "@solution"
        ]
      },
      "source": "# Create a variable desc\ndesc = \"compound interest\"\n\n# Create a variable profitable\nprofitable = True",
      "execution_count": null,
      "outputs": []
    },
    {
      "cell_type": "code",
      "metadata": {
        "collapsed": true,
        "tags": [
          "@sct"
        ]
      },
      "source": "test_object(\"desc\", incorrect_msg = \"Assign the value `\\\"compound interest\\\"` to the variable `desc`.\")\ntest_object(\"profitable\", incorrect_msg = \"Assign the value `True` to the variable `profitable`.\")\n\nsuccess_msg(\"Nice!\")",
      "execution_count": null,
      "outputs": []
    },
    {
      "cell_type": "markdown",
      "metadata": {
        "collapsed": true,
        "tags": [
          "type:MultipleChoiceExercise",
          "lang:python",
          "xp:50",
          "skills:2",
          "key:b35f67514c"
        ]
      },
      "source": "## Guess the type\n\nTo find out the type of a value or a variable that refers to that value, you can use the [`type()`](https://docs.python.org/3/library/functions.html#type) function. Suppose you've defined a variable `a`, but you forgot the type of this variable. To determine the type of `a`, simply execute:\n\n```\ntype(a)\n```\n\nWe already went ahead and created three variables: `a`, `b` and `c`. You can use the IPython shell on the right to discover their type. Which of the following options is correct?\n"
    },
    {
      "cell_type": "markdown",
      "metadata": {
        "collapsed": true,
        "tags": [
          "@instructions"
        ]
      },
      "source": "- `a` is of type `int`, `b` is of type `str`, `c` is of type `bool`\n- `a` is of type `float`, `b` is of type `bool`, `c` is of type `str`\n- `a` is of type `float`, `b` is of type `str`, `c` is of type `bool`\n- `a` is of type `int`, `b` is of type `bool`, `c` is of type `str`\n"
    },
    {
      "cell_type": "markdown",
      "metadata": {
        "collapsed": true,
        "tags": [
          "@hint"
        ]
      },
      "source": "Use `type(a)`, `type(b)` and `type(c)` inside the IPython Shell to find out about the variables' types.\n"
    },
    {
      "cell_type": "code",
      "metadata": {
        "collapsed": true,
        "tags": [
          "@pre_exercise_code"
        ]
      },
      "source": "a = 100*1.1**7\nb = \"True\"\nc = False",
      "execution_count": null,
      "outputs": []
    },
    {
      "cell_type": "code",
      "metadata": {
        "collapsed": true,
        "tags": [
          "@sct"
        ]
      },
      "source": "msg1 = \"The type of `a` is not `int`. Try out `type(a)` and see for yourself.\"\nmsg2 = \"`b` is not a `bool`, it's a `str`! The fact that `True` is wrapped in double quotes makes it a string.\"\nmsg3 = \"Correcto perfecto!\"\nmsg4 = \"None of the variable's types is correct here. Try `type(a)` and see what type this variable is.\"\ntest_mc(3,[msg1, msg2, msg3, msg4])",
      "execution_count": null,
      "outputs": []
    },
    {
      "cell_type": "markdown",
      "metadata": {
        "collapsed": true,
        "tags": [
          "type:NormalExercise",
          "lang:python",
          "xp:100",
          "skills:2",
          "key:4d0d83cc02"
        ]
      },
      "source": "## Operations with other types\n\nFilip mentioned that different types behave differently in Python.\n\nWhen you sum two strings, for example, you'll get different behavior than when you sum two integers or two booleans.\n\nIn the script some variables with different types have already been created. It's up to you to use them.\n"
    },
    {
      "cell_type": "markdown",
      "metadata": {
        "collapsed": true,
        "tags": [
          "@instructions"
        ]
      },
      "source": "- Calculate the product of `savings` and `factor`. Store the result in `year1`.\n- What do you think the resulting type will be? Find out by printing out the type of `year1`.\n- Calculate the sum of `desc` and `desc` and store the result in a new variable `doubledesc`.\n- Print out `doubledesc`. Did you expect this?\n"
    },
    {
      "cell_type": "markdown",
      "metadata": {
        "collapsed": true,
        "tags": [
          "@hint"
        ]
      },
      "source": "- Assign `factor * savings` to a new variable, `year1`.\n- To print the type of a variable `x`, use `print(type(x))`.\n- Assign `desc + desc` to a new variable, `doubledesc`.\n- To print a variable `x`, write `print(x)` in the script.\n"
    },
    {
      "cell_type": "code",
      "metadata": {
        "collapsed": true,
        "tags": [
          "@pre_exercise_code"
        ]
      },
      "source": "# no pec",
      "execution_count": null,
      "outputs": []
    },
    {
      "cell_type": "code",
      "metadata": {
        "collapsed": true,
        "tags": [
          "@sample_code"
        ]
      },
      "source": "# Several variables to experiment with\nsavings = 100\nfactor = 1.1\ndesc = \"compound interest\"\n\n# Assign product of factor and savings to year1\n\n\n# Print the type of year1\n\n\n# Assign sum of desc and desc to doubledesc\n\n\n# Print out doubledesc\n",
      "execution_count": null,
      "outputs": []
    },
    {
      "cell_type": "code",
      "metadata": {
        "collapsed": true,
        "tags": [
          "@solution"
        ]
      },
      "source": "# Several variables to experiment with\nsavings = 100\nfactor = 1.1\ndesc = \"compound interest\"\n\n# Assign product of savings and factor to year1\nyear1 = savings * factor\n\n# Print the type of year1\nprint(type(year1))\n\n# Assign sum of desc and desc to doubledesc\ndoubledesc = desc + desc\n\n# Print out doubledesc\nprint(doubledesc)",
      "execution_count": null,
      "outputs": []
    },
    {
      "cell_type": "code",
      "metadata": {
        "collapsed": true,
        "tags": [
          "@sct"
        ]
      },
      "source": "msg = \"You don't have to change or remove the predefined variables.\"\ntest_object(\"savings\", undefined_msg = msg, incorrect_msg = msg)\ntest_object(\"factor\", undefined_msg = msg, incorrect_msg = msg)\ntest_object(\"desc\", undefined_msg = msg, incorrect_msg = msg)\ntest_object(\"year1\", incorrect_msg = \"Multiply `savings` and `factor` to create the `year1` variable.\")\nmsg = \"Make sure to print out the type of `year1` like this: `print(type(year1))`.\"\ntest_function(\"print\", 1, incorrect_msg = msg)\ntest_function(\"type\", incorrect_msg = msg)\ntest_object(\"doubledesc\", incorrect_msg  = \"Have you stored the result of `desc + desc` in `doubledesc`?\")\ntest_function(\"print\", 2, incorrect_msg = \"Be sure to print out `doubledesc`.\")\nsuccess_msg(\"Nice. Notice how `desc + desc` causes `\\\"compound interest\\\"` and `\\\"compound interest\\\"` to be pasted together.\")",
      "execution_count": null,
      "outputs": []
    },
    {
      "cell_type": "markdown",
      "metadata": {
        "collapsed": true,
        "tags": [
          "type:NormalExercise",
          "lang:python",
          "xp:100",
          "skills:2",
          "key:085bb602b9"
        ]
      },
      "source": "## Type conversion\n\nUsing the `+` operator to paste together two strings can be very useful in building custom messages.\n\nSuppose for example that you've calculated the return of your investment, and want to summarize the results in a string. Assuming the floats `savings` and `result` are defined, you can try something like this:\n\n```\nprint(\"I started with $\" + savings + \" and now have $\" + result + \". Awesome!\")\n```\n\nThis will not work, though, as you cannot simply sum strings and floats.\n\nTo fix the error, you'll need to explicitly convert the types of your variables. More specifically, you'll need [`str()`](https://docs.python.org/3/library/functions.html#func-str), to convert a value into a string. `str(savings)`, for example, will convert the float `savings` to a string.\n\nSimilar functions such as [`int()`](https://docs.python.org/3/library/functions.html#int), [`float()`](https://docs.python.org/3/library/functions.html#float) and [`bool()`](https://docs.python.org/3/library/functions.html#bool) will help you convert Python values into any type.\n"
    },
    {
      "cell_type": "markdown",
      "metadata": {
        "collapsed": true,
        "tags": [
          "@instructions"
        ]
      },
      "source": "- Hit _Submit Answer_ to run the code on the right. Try to understand the error message.\n- Fix the code on the right such that the printout runs without errors; use the function [`str()`](https://docs.python.org/3/library/functions.html#func-str) to convert the variables to strings.\n- Convert the variable `pi_string` to a float and store this float as a new variable, `pi_float`.\n"
    },
    {
      "cell_type": "markdown",
      "metadata": {
        "collapsed": true,
        "tags": [
          "@hint"
        ]
      },
      "source": "- You should use [`str()`](https://docs.python.org/3/library/functions.html#func-str) twice!\n- Use [`float()`](https://docs.python.org/3/library/functions.html#float) on `pi_string` and store the result in `pi_float`.\n"
    },
    {
      "cell_type": "code",
      "metadata": {
        "collapsed": true,
        "tags": [
          "@pre_exercise_code"
        ]
      },
      "source": "# pec",
      "execution_count": null,
      "outputs": []
    },
    {
      "cell_type": "code",
      "metadata": {
        "collapsed": true,
        "tags": [
          "@sample_code"
        ]
      },
      "source": "# Definition of savings and result\nsavings = 100\nresult = 100 * 1.10 ** 7\n\n# Fix the printout\nprint(\"I started with $\" + savings + \" and now have $\" + result + \". Awesome!\")\n\n# Definition of pi_string\npi_string = \"3.1415926\"\n\n# Convert pi_string into float: pi_float\n",
      "execution_count": null,
      "outputs": []
    },
    {
      "cell_type": "code",
      "metadata": {
        "collapsed": true,
        "tags": [
          "@solution"
        ]
      },
      "source": "# Definition of savings and result\nsavings = 100\nresult = 100 * 1.10 ** 7\n\n# Fix the printout\nprint(\"I started with $\" + str(savings) + \" and now have $\" + str(result) + \". Awesome!\")\n\n# Definition of pi_string\npi_string = \"3.1415926\"\n\n# Convert pi_string into float: pi_float\npi_float = float(pi_string)",
      "execution_count": null,
      "outputs": []
    },
    {
      "cell_type": "code",
      "metadata": {
        "collapsed": true,
        "tags": [
          "@sct"
        ]
      },
      "source": "\n# ensure predefined values are unmodified\nmsg = \"You don't have to change or remove the predefined variables.\"\ntest_object(\"savings\", undefined_msg = msg, incorrect_msg = msg)\ntest_object(\"result\", undefined_msg = msg, incorrect_msg = msg)\n\n# check correctly converted `result` and `savings` in printed string.\ntest_function(\"str\", 1, incorrect_msg = \"On the line with `print()`, make sure to change `savings` to `str(savings)`.\")\ntest_function(\"str\", 2, incorrect_msg = \"On the line with `print()`, make sure to changed `result` to  `str(result)`.\")\ntest_function(\"print\", incorrect_msg = \"The string you're trying to print is not quite right. Have another look at the description of this problem.\")\n\n# ensure predefined pi_string is unmodified\nmsg = \"You shouldn't have to change or remove the predefined variable `pi_string`.\"\ntest_object(\"pi_string\", undefined_msg = msg, incorrect_msg = msg)\n\n# check pi_float\ntest_function(\"float\",\n              not_called_msg = \"In order to convert `pi_string` to a float, be sure to use the `float()` function.\",\n              incorrect_msg = \"Pass `pi_string` to [`float()`](https://docs.python.org/3/library/functions.html#float) in order to convert it to a float.\")\ntest_object(\"pi_float\",\n             incorrect_msg = \"It looks like you used `float` correctly, but the value of `pi_float` is incorrect.\",\n             undefined_msg = \"It looks like you used `float` correctly, but did not assign the result to `pi_float`\")\n\nsuccess_msg(\"Great! You have a profit of around $95; that's pretty awesome indeed!\")",
      "execution_count": null,
      "outputs": []
    },
    {
      "cell_type": "markdown",
      "metadata": {
        "collapsed": true,
        "tags": [
          "type:MultipleChoiceExercise",
          "lang:python",
          "xp:50",
          "skills:2",
          "key:3e5f0bdf3a"
        ]
      },
      "source": "## Can Python handle everything?\n\nNow that you know something more about combining different sources of information, have a look at the four Python expressions below.\nWhich one of these will throw an error? You can always copy and paste this code in the IPython Shell to find out!\n"
    },
    {
      "cell_type": "markdown",
      "metadata": {
        "collapsed": true,
        "tags": [
          "@instructions"
        ]
      },
      "source": "- `\"I can add integers, like \"  + str(5) + \" to strings.\"`\n- `\"I said \" + (\"Hey \" * 2) + \"Hey!\"`\n- `\"The correct answer to this multiple choice exercise is answer number \" + 2`\n- `True + False`\n"
    },
    {
      "cell_type": "markdown",
      "metadata": {
        "collapsed": true,
        "tags": [
          "@hint"
        ]
      },
      "source": "Copy and paste the different expressions into the IPython Shell and try to figure out which one throws an error.\n"
    },
    {
      "cell_type": "code",
      "metadata": {
        "collapsed": true,
        "tags": [
          "@pre_exercise_code"
        ]
      },
      "source": "# pec",
      "execution_count": null,
      "outputs": []
    },
    {
      "cell_type": "code",
      "metadata": {
        "collapsed": true,
        "tags": [
          "@sct"
        ]
      },
      "source": "msg1 = msg2 = msg4 = \"Incorrect, this command runs perfectly fine.\"\nmsg3 = \"Correct! Because you're not converting `2` to a string with [`str()`](https://docs.python.org/3/library/functions.html#func-str), this will give an error.\"\ntest_mc(3, [msg1, msg2, msg3, msg4])",
      "execution_count": null,
      "outputs": []
    }
  ],
  "metadata": {
    "celltoolbar": "Tags",
    "kernelspec": {
      "display_name": "Python 3",
      "language": "python",
      "name": "python3"
    },
    "language_info": {
      "codemirror_mode": {
        "name": "ipython",
        "version": 3
      },
      "file_extension": ".py",
      "mimetype": "text/x-python",
      "name": "python",
      "nbconvert_exporter": "python",
      "pygments_lexer": "ipython3",
      "version": "3.6.0"
    },
    "datacamp_chapter": {
      "title_meta": "Chapter 1",
      "title": "Python Basics",
      "description": "An introduction to the basic concepts of Python. Learn how to use Python both interactively and through a script. Create your first variables and acquaint yourself with Python's basic data types.",
      "attachments": {
        "slides_link": "https://s3.amazonaws.com/assets.datacamp.com/course/intro_to_python/ch1_slides.pdf"
      }
    }
  },
  "nbformat": 4,
  "nbformat_minor": 2
}