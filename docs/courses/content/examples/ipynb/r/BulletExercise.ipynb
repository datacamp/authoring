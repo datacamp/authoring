{
 "cells": [
  {
   "cell_type": "markdown",
   "metadata": {
    "tags": [
     "type:BulletExercise",
     "lang:r",
     "xp:150",
     "key:79e232200d"
    ]
   },
   "source": [
    "## Building a plot!"
   ]
  },
  {
   "cell_type": "code",
   "execution_count": 1,
   "metadata": {
    "collapsed": true,
    "tags": [
     "@pre_exercise_code"
    ]
   },
   "outputs": [],
   "source": [
    "library(ggplot2)"
   ]
  },
  {
   "cell_type": "code",
   "execution_count": null,
   "metadata": {
    "collapsed": true,
    "tags": [
     "@sample_code"
    ]
   },
   "outputs": [],
   "source": [
    "ggplot(mtcars, aes(x = mpg, y = wt))"
   ]
  },
  {
   "cell_type": "markdown",
   "metadata": {
    "tags": [
     "type:NormalExercise",
     "xp:30",
     "key:1db0bdc483",
     "subex:TRUE"
    ]
   },
   "source": [
    "### Add a scatterplot"
   ]
  },
  {
   "cell_type": "markdown",
   "metadata": {
    "tags": [
     "@instructions"
    ]
   },
   "source": [
    "- Use `geom_point` to add a scatterplot"
   ]
  },
  {
   "cell_type": "markdown",
   "metadata": {
    "tags": [
     "@hint"
    ]
   },
   "source": [
    "- Use `geom_point`"
   ]
  },
  {
   "cell_type": "code",
   "execution_count": null,
   "metadata": {
    "collapsed": true,
    "tags": [
     "@solution"
    ]
   },
   "outputs": [],
   "source": [
    "ggplot(mtcars, aes(x = mpg, y = wt)) +\n",
    "  geom_point()"
   ]
  },
  {
   "cell_type": "code",
   "execution_count": 4,
   "metadata": {
    "collapsed": true,
    "tags": [
     "@sct"
    ]
   },
   "outputs": [],
   "source": [
    "# Test if user added geom_point"
   ]
  },
  {
   "cell_type": "markdown",
   "metadata": {
    "tags": [
     "type:NormalExercise",
     "key:555a6267d7",
     "xp:30"
    ]
   },
   "source": [
    "### Add a regression line"
   ]
  },
  {
   "cell_type": "markdown",
   "metadata": {
    "tags": [
     "@instructions"
    ]
   },
   "source": [
    "- Use `geom_smooth` with `method` set to `lm` to add a regression line"
   ]
  },
  {
   "cell_type": "markdown",
   "metadata": {
    "tags": [
     "@hint"
    ]
   },
   "source": [
    "- Use `geom_smooth`"
   ]
  },
  {
   "cell_type": "code",
   "execution_count": null,
   "metadata": {
    "collapsed": true,
    "tags": [
     "@solution"
    ]
   },
   "outputs": [],
   "source": [
    "ggplot(mtcars, aes(x = mpg, y = wt)) +\n",
    "  geom_point() +\n",
    "  geom_smooth(method = 'lm')"
   ]
  },
  {
   "cell_type": "code",
   "execution_count": 6,
   "metadata": {
    "collapsed": true,
    "tags": [
     "@sct"
    ]
   },
   "outputs": [],
   "source": [
    "# Test if the user added a geom_smooth with method = 'lm'"
   ]
  }
 ],
 "metadata": {
  "celltoolbar": "Tags",
  "kernelspec": {
   "display_name": "R",
   "language": "R",
   "name": "ir"
  },
  "language_info": {
   "codemirror_mode": "r",
   "file_extension": ".r",
   "mimetype": "text/x-r-source",
   "name": "R",
   "pygments_lexer": "r",
   "version": "3.4.1"
  }
 },
 "nbformat": 4,
 "nbformat_minor": 2
}
