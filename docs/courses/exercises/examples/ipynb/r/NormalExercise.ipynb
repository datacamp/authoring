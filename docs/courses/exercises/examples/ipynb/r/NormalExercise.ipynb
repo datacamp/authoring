{
 "cells": [
  {
   "cell_type": "markdown",
   "metadata": {
    "tags": [
     "type:NormalExercise",
     "xp:100",
     "skills:1",
     "key:15d729634a"
    ]
   },
   "source": [
    "## How it works\n",
    "\n",
    "You can execute R commands straight in the console. This is a good way to experiment with R code, as your submission is not checked for correctness.\n",
    "\n"
   ]
  },
  {
   "cell_type": "markdown",
   "metadata": {
    "tags": [
     "@instructions"
    ]
   },
   "source": [
    "- In the editor on the right there is already some sample code. Can you see which lines are actual R code and which are comments?\n",
    "- Add a line of code that calculates the sum of 6 and 12, and hit the 'Submit Answer' button."
   ]
  },
  {
   "cell_type": "markdown",
   "metadata": {
    "tags": [
     "@hint"
    ]
   },
   "source": [
    "Just add a line of R code that calculates the sum of 6 and 12, just like the example in the sample code!"
   ]
  },
  {
   "cell_type": "code",
   "execution_count": null,
   "metadata": {
    "collapsed": true,
    "tags": [
     "@pre_exercise_code"
    ]
   },
   "outputs": [],
   "source": [
    "# no pec"
   ]
  },
  {
   "cell_type": "code",
   "execution_count": null,
   "metadata": {
    "tags": [
     "@sample_code"
    ]
   },
   "outputs": [],
   "source": [
    "# Calculate 3 + 4\n",
    "3 + 4\n",
    "\n",
    "# Calculate 6 + 12"
   ]
  },
  {
   "cell_type": "code",
   "execution_count": null,
   "metadata": {
    "tags": [
     "@solution"
    ]
   },
   "outputs": [],
   "source": [
    "# Calculate 3 + 4\n",
    "3 + 4\n",
    "\n",
    "# Calculate 6 + 12\n",
    "6 + 12"
   ]
  },
  {
   "cell_type": "code",
   "execution_count": null,
   "metadata": {
    "collapsed": true,
    "tags": [
     "@sct"
    ]
   },
   "outputs": [],
   "source": [
    "test_output_contains(\"18\", incorrect_msg = \"Make sure to add `6 + 12` on a new line. Do not start the line with a `#`, otherwise your R code is not executed!\")\n",
    "success_msg(\"Awesome! See how the console shows the result of the R code you submitted? Now that you're familiar with the interface, let's get down to R business!\")"
   ]
  }
 ],
 "metadata": {
  "celltoolbar": "Tags",
  "datacamp-chapter": {
   "description": "In this chapter, you will take your first steps with R.",
   "title": "Intro to basics",
   "title_meta": "Chapter 1"
  },
  "kernelspec": {
   "display_name": "R",
   "language": "R",
   "name": "ir"
  },
  "language_info": {
   "codemirror_mode": "r",
   "file_extension": ".r",
   "mimetype": "text/x-r-source",
   "name": "R",
   "pygments_lexer": "r",
   "version": "3.4.1"
  }
 },
 "nbformat": 4,
 "nbformat_minor": 2
}
