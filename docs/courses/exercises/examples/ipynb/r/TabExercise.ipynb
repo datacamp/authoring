{
 "cells": [
  {
   "cell_type": "markdown",
   "metadata": {
    "tags": [
     "type:TabExercise",
     "lang:r",
     "xp:100",
     "key:dbbca81c55"
    ]
   },
   "source": [
    "## Advanced Group By Exercises\n",
    "\n",
    "By now you've learned the fundamentals of `dplyr`: the five data manipulation verbs and the additional `group_by()` function to discover interesting group-wise statistics. This exercise brings together these concepts and provides you with an opportunity to combine them to answer some interesting questions.\n",
    "\n",
    "Let us suppose we want to find the most visited destination for each carrier. Before reading ahead, please spend a couple of minutes thinking about how you might go about solving this exercise using dplyr.\n",
    "\n",
    "As this is the first time you are combining multiple dplyr concepts, we have broken this exercise down into smaller steps. Each step will allow you to focus on a specific concept."
   ]
  },
  {
   "cell_type": "code",
   "execution_count": 1,
   "metadata": {
    "collapsed": true,
    "tags": [
     "@pre_exercise_code"
    ]
   },
   "outputs": [
    {
     "name": "stderr",
     "output_type": "stream",
     "text": [
      "\n",
      "Attaching package: ‘dplyr’\n",
      "\n",
      "The following objects are masked from ‘package:stats’:\n",
      "\n",
      "    filter, lag\n",
      "\n",
      "The following objects are masked from ‘package:base’:\n",
      "\n",
      "    intersect, setdiff, setequal, union\n",
      "\n"
     ]
    }
   ],
   "source": [
    "# pec\n",
    "library(dplyr)\n",
    "library(hflights)"
   ]
  },
  {
   "cell_type": "code",
   "execution_count": null,
   "metadata": {
    "collapsed": true,
    "tags": [
     "@sample_code"
    ]
   },
   "outputs": [],
   "source": [
    "hflights %>%\n",
    "  ..."
   ]
  },
  {
   "cell_type": "markdown",
   "metadata": {
    "tags": [
     "type:NormalExercise",
     "xp:30",
     "key:421e55e2ec",
     "subex:TRUE"
    ]
   },
   "source": [
    "### Task 1"
   ]
  },
  {
   "cell_type": "markdown",
   "metadata": {
    "tags": [
     "@instructions"
    ]
   },
   "source": [
    "Compute for every carrier, the aggregate number of visits to each destination."
   ]
  },
  {
   "cell_type": "code",
   "execution_count": null,
   "metadata": {
    "collapsed": true,
    "tags": [
     "@solution"
    ]
   },
   "outputs": [],
   "source": [
    "hflights %>%\n",
    "  group_by(UniqueCarrier, Dest) %>%\n",
    "  summarise(n = n())"
   ]
  },
  {
   "cell_type": "code",
   "execution_count": 6,
   "metadata": {
    "collapsed": true,
    "tags": [
     "@sct"
    ]
   },
   "outputs": [],
   "source": [
    "# Test"
   ]
  },
  {
   "cell_type": "markdown",
   "metadata": {
    "tags": [
     "type:NormalExercise",
     "xp:30",
     "key:be3d94b96c",
     "subex:TRUE"
    ]
   },
   "source": [
    "### Task 2"
   ]
  },
  {
   "cell_type": "markdown",
   "metadata": {
    "tags": [
     "instructions"
    ]
   },
   "source": [
    "Filter the results to only return the top ranked destination for every carrier."
   ]
  },
  {
   "cell_type": "code",
   "execution_count": null,
   "metadata": {
    "collapsed": true,
    "tags": [
     "@solution"
    ]
   },
   "outputs": [],
   "source": [
    "hflights %>% \n",
    "  group_by(UniqueCarrier, Dest) %>%\n",
    "  summarise(n = n()) %>%\n",
    "  mutate(rank = rank(desc(n))) %>%\n",
    "  filter(rank == 1)"
   ]
  },
  {
   "cell_type": "code",
   "execution_count": null,
   "metadata": {
    "collapsed": true,
    "tags": [
     "@sct"
    ]
   },
   "outputs": [],
   "source": [
    "# Test"
   ]
  }
 ],
 "metadata": {
  "celltoolbar": "Tags",
  "kernelspec": {
   "display_name": "R",
   "language": "R",
   "name": "ir"
  },
  "language_info": {
   "codemirror_mode": "r",
   "file_extension": ".r",
   "mimetype": "text/x-r-source",
   "name": "R",
   "pygments_lexer": "r",
   "version": "3.4.1"
  }
 },
 "nbformat": 4,
 "nbformat_minor": 2
}
