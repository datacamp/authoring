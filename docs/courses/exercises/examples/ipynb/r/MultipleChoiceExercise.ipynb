{
 "cells": [
  {
   "cell_type": "markdown",
   "metadata": {
    "tags": [
     "type:MultipleChoiceExercise",
     "lang:r",
     "xp:",
     "50"
    ]
   },
   "source": [
    "## Function scoping\n",
    "\n",
    "An issue that Filip did not discuss in the video is function scoping. It implies that variables that are defined inside a function are not accessible outside that function. Try running the following code and see if you understand the results:\n",
    "\n",
    "```\n",
    "pow_two <- function(x) {\n",
    "  y <- x ^ 2\n",
    "  return(y)\n",
    "}\n",
    "pow_two(4)\n",
    "y\n",
    "x\n",
    "```\n",
    "\n",
    "`y` was defined inside the `pow_two()` function and therefore it is not accessible outside of that function. This is also true for the function's arguments of course - `x` in this case.\n",
    "\n",
    "Which statement is correct about the following chunk of code? The function `two_dice()` is already available in the workspace.\n",
    "\n",
    "```\n",
    "two_dice <- function() {\n",
    "possibilities <- 1:6\n",
    "dice1 <- sample(possibilities, size = 1)\n",
    "dice2 <- sample(possibilities, size = 1)\n",
    "dice1 + dice2\n",
    "}\n",
    "```"
   ]
  },
  {
   "cell_type": "markdown",
   "metadata": {
    "tags": [
     "@instructions"
    ]
   },
   "source": [
    "- Executing `two_dice()` causes an error.\n",
    "- Executing `res <- two_dice()` makes the contents of `dice1` and `dice2` available outside the function.\n",
    "- Whatever the way of calling the `two_dice()` function, R won't have access to `dice1` and `dice2` outside the function."
   ]
  },
  {
   "cell_type": "markdown",
   "metadata": {
    "tags": [
     "@hint"
    ]
   },
   "source": [
    "- The function `two_dice()` doesn't take any input. Calling it with an argument will generate an error."
   ]
  },
  {
   "cell_type": "code",
   "execution_count": 2,
   "metadata": {
    "collapsed": true,
    "tags": [
     "@pre_exercise_code"
    ]
   },
   "outputs": [],
   "source": [
    "two_dice <- function() {\n",
    "  possibilities <- 1:6\n",
    "  dice1 <- sample(possibilities, size = 1)\n",
    "  dice2 <- sample(possibilities, size = 1)\n",
    "  dice1 + dice2\n",
    "}"
   ]
  },
  {
   "cell_type": "code",
   "execution_count": null,
   "metadata": {
    "collapsed": true,
    "tags": [
     "@sct"
    ]
   },
   "outputs": [],
   "source": [
    "msg1 <- \"Calling `two_dice()` doesn't throw an error; feel free to try it out in the console. Try again.\"\n",
    "msg2 <- \"Assigning the result of a function to a variable does not change anything about the scoping of the variables inside that function. Have another go at it.\"\n",
    "msg3 <- \"Great! If you're familiar with other programming languages, you might wonder whether R passes arguments <i>by value</i> or <i>by reference</i>. Find out in the next exercise!\"\n",
    "test_mc(3, feedback_msgs = c(msg1, msg2, msg3))"
   ]
  }
 ],
 "metadata": {
  "celltoolbar": "Tags",
  "kernelspec": {
   "display_name": "R",
   "language": "R",
   "name": "ir"
  },
  "language_info": {
   "codemirror_mode": "r",
   "file_extension": ".r",
   "mimetype": "text/x-r-source",
   "name": "R",
   "pygments_lexer": "r",
   "version": "3.4.1"
  }
 },
 "nbformat": 4,
 "nbformat_minor": 2
}
