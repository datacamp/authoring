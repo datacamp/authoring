{
 "cells": [
  {
   "cell_type": "markdown",
   "metadata": {
    "tags": [
     "type:NormalExercise",
     "lang:python",
     "xp:100",
     "skills:2",
     "key:bdc52f0e19"
    ]
   },
   "source": [
    "## The Python Interface\n",
    "\n",
    "In the Python script on the right, you can type Python code to solve the exercises. If you hit _Submit Answer_, your python script (`script.py`) is executed and the output is shown in the IPython Shell. DataCamp checks whether your submission is correct and gives you feedback.\n",
    "\n",
    "You can hit _Submit Answer_ as often as you want. If you're stuck, you can click _Get Hint_, and ultimately _Get Solution_.\n",
    "\n",
    "You can also use the IPython Shell interactively by simply typing commands and hitting Enter. When you work in the shell directly, your code will not be checked for correctness so it is a great way to experiment.\n"
   ]
  },
  {
   "cell_type": "markdown",
   "metadata": {
    "tags": [
     "@instructions"
    ]
   },
   "source": [
    "- Experiment in the IPython Shell; type 5 / 8, for example.\n",
    "- Add another line of code to the Python script: `print(7 + 10)`.\n",
    "- Hit _Submit Answer_ to execute the Python script and receive feedback.\n"
   ]
  },
  {
   "cell_type": "markdown",
   "metadata": {
    "tags": [
     "@hint"
    ]
   },
   "source": [
    "Simply add `print(7 + 10)` in the script on the right and hit 'Submit Answer'.\n"
   ]
  },
  {
   "cell_type": "code",
   "execution_count": null,
   "metadata": {
    "collapsed": true,
    "tags": [
     "@pre_exercise_code"
    ]
   },
   "outputs": [],
   "source": [
    "# pec comes here"
   ]
  },
  {
   "cell_type": "code",
   "execution_count": null,
   "metadata": {
    "collapsed": true,
    "tags": [
     "@sample_code"
    ]
   },
   "outputs": [],
   "source": [
    "# Example, do not modify!\n",
    "print(5 / 8)\n",
    "\n",
    "# Put code below here\n"
   ]
  },
  {
   "cell_type": "code",
   "execution_count": null,
   "metadata": {
    "collapsed": true,
    "tags": [
     "@solution"
    ]
   },
   "outputs": [],
   "source": [
    "# Example, do not modify!\n",
    "print(5 / 8)\n",
    "\n",
    "# Put code below here\n",
    "print(7 + 10)"
   ]
  },
  {
   "cell_type": "code",
   "execution_count": null,
   "metadata": {
    "collapsed": true,
    "tags": [
     "@sct"
    ]
   },
   "outputs": [],
   "source": [
    "msg = \"Don't remove the first statement. It is an example which is coded for you!\"\n",
    "test_function(\"print\", 1, not_called_msg = msg, incorrect_msg = msg)\n",
    "\n",
    "msg = \"Have you added `print(7 + 10)` to the script, in addition to the `print()` command that was already there?\"\n",
    "test_function(\"print\", 2, not_called_msg = msg, incorrect_msg = msg)\n",
    "success_msg(\"Great!\")"
   ]
  }
 ],
 "metadata": {
  "celltoolbar": "Tags",
  "kernelspec": {
   "display_name": "Python 3",
   "language": "python",
   "name": "python3"
  },
  "language_info": {
   "codemirror_mode": {
    "name": "ipython",
    "version": 3
   },
   "file_extension": ".py",
   "mimetype": "text/x-python",
   "name": "python",
   "nbconvert_exporter": "python",
   "pygments_lexer": "ipython3",
   "version": "3.6.2"
  }
 },
 "nbformat": 4,
 "nbformat_minor": 2
}
