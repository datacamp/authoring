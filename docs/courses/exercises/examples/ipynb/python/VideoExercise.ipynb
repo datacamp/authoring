{
  "cells": [
    {
      "cell_type": "markdown",
      "metadata": {
        "collapsed": true,
        "tags": [
          "type:VideoExercise",
          "lang:python",
          "xp:50",
          "skills:2",
          "key:d5509896f7"
        ]
      },
      "source": "## Hello Python!\n"
    },
    {
      "cell_type": "markdown",
      "metadata": {
        "collapsed": true,
        "tags": [
          "@video_link"
        ]
      },
      "source": "//player.vimeo.com/video/146994261\n"
    },
    {
      "cell_type": "markdown",
      "metadata": {
        "collapsed": true,
        "tags": [
          "@video_hls"
        ]
      },
      "source": "//videos.datacamp.com/transcoded/735_intro_to_python/v2/hls-ch1_1.master.m3u8\n"
    }
  ],
  "metadata": {
    "celltoolbar": "Tags",
    "kernelspec": {
      "display_name": "Python 3",
      "language": "python",
      "name": "python3"
    },
    "language_info": {
      "codemirror_mode": {
        "name": "ipython",
        "version": 3
      },
      "file_extension": ".py",
      "mimetype": "text/x-python",
      "name": "python",
      "nbconvert_exporter": "python",
      "pygments_lexer": "ipython3",
      "version": "3.6.0"
    }
  },
  "nbformat": 4,
  "nbformat_minor": 2
}