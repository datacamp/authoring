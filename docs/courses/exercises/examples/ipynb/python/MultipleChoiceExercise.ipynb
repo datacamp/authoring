{
 "cells": [
  {
   "cell_type": "markdown",
   "metadata": {
    "collapsed": true,
    "tags": [
     "type:MultipleChoiceExercise",
     "lang:python",
     "xp:50",
     "skills:2",
     "key:9703b117fb"
    ]
   },
   "source": [
    "## When to use Python?\n",
    "\n",
    "Python is a pretty versatile language. For what applications can you use Python?\n"
   ]
  },
  {
   "cell_type": "markdown",
   "metadata": {
    "collapsed": true,
    "tags": [
     "@instructions"
    ]
   },
   "source": [
    "- You want to do some quick calculations.\n",
    "- For your new business, you want to develop a database-driven website.\n",
    "- Your boss asks you to clean and analyze the results of the latest satisfaction survey.\n",
    "- All of the above.\n"
   ]
  },
  {
   "cell_type": "markdown",
   "metadata": {
    "collapsed": true,
    "tags": [
     "@hint"
    ]
   },
   "source": [
    "Filip mentioned in the video that Python can be used to build practically any piece of software.\n"
   ]
  },
  {
   "cell_type": "code",
   "execution_count": null,
   "metadata": {
    "collapsed": true,
    "tags": [
     "@pre_exercise_code"
    ]
   },
   "outputs": [],
   "source": [
    "# pec comes here"
   ]
  },
  {
   "cell_type": "code",
   "execution_count": null,
   "metadata": {
    "collapsed": true,
    "tags": [
     "@sct"
    ]
   },
   "outputs": [],
   "source": [
    "msg1 = \"Incorrect. Python can do simple and quick calculations, but it is much more than that!\"\n",
    "msg2 = \"Incorrect. There is a very popular framework to build database-driven websites (Django), but Python can do much more.\"\n",
    "msg3 = \"Incorrect. Python is a powerful tool to do data analysis, but you can also use it for other ends.\"\n",
    "msg4 = \"Correct! Python is an extremely versatile language.\"\n",
    "test_mc(4, [msg1, msg2, msg3, msg4])\n"
   ]
  }
 ],
 "metadata": {
  "celltoolbar": "Tags",
  "kernelspec": {
   "display_name": "Python 3",
   "language": "python",
   "name": "python3"
  },
  "language_info": {
   "codemirror_mode": {
    "name": "ipython",
    "version": 3
   },
   "file_extension": ".py",
   "mimetype": "text/x-python",
   "name": "python",
   "nbconvert_exporter": "python",
   "pygments_lexer": "ipython3",
   "version": "3.6.2"
  }
 },
 "nbformat": 4,
 "nbformat_minor": 2
}
