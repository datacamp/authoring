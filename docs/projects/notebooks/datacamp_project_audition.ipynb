{
 "cells": [
  {
   "cell_type": "markdown",
   "metadata": {
    "collapsed": true
   },
   "source": [
    "Hi and welcome to your DataCamp project audition! This notebook must be filled out and vetted before a contract can be signed and you can start creating your project.\n",
    "\n",
    "There are two parts to be completed in this notebook:\n",
    "\n",
    "- **PART A: PROJECT INFORMATION**:  The title of the project, a project description, assumed student background, etc.\n",
    "- **PART B: BLOG POST INTRO**: The three first text and code cells that will form the introduction of your project.\n",
    "\n",
    "When you are happy with this document, include the file as an attachment in an email to me as well as the datasets used. If you have any questions, feel free to reach out to me at any time!\n",
    "\n",
    "David Venturi<br>\n",
    "david.venturi@datacamp.com"
   ]
  },
  {
   "cell_type": "markdown",
   "metadata": {},
   "source": [
    "# PART A: PROJECT INFORMATION"
   ]
  },
  {
   "cell_type": "markdown",
   "metadata": {},
   "source": [
    "**Project title**: The title of the project. Catchy _but_ descriptive. Maximum 41 characters.\n",
    "\n",
    "**Name:** Your full name.\n",
    "\n",
    "**E-mail:** A DataCamp connected e-mail (connected in the sense that you could use it to log in to datacamp.com).\n",
    "\n",
    "**GitHub username**: Your Github username.\n",
    "\n",
    "**Link to prior writing**: Please supply a link/reference to some of your own already published educational writing. For example, in the form of a blog post, notebook, article, book, or internal case study.\n",
    "\n",
    "**Project description**: A description of the project between 3-5 sentences in length. This will be read by the students on the DataCamp platform **before** deciding to start the project. Example descriptions can be found by clicking each project link here: https://www.datacamp.com/projects\n",
    "\n",
    "**Dataset(s) used**: Describe the dataset you will use in 1-2 sentences.\n",
    "\n",
    "**Assumed student knowledge**: What background knowledge you assume the student doing this project will have. The more specific the better. This will be read my me (David) only. Please list things like modules, tools, functions, methods, and statistical concepts and jargon."
   ]
  },
  {
   "cell_type": "markdown",
   "metadata": {},
   "source": [
    "# PART B. PROJECT INTRODUCTION"
   ]
  },
  {
   "cell_type": "markdown",
   "metadata": {},
   "source": [
    "The final output of a DataCamp project looks like a blog post: pairs of text and code cells that tell a story about data. The text is written from the perspective of the data analyst and *not* from the perspective of an instructor on DataCamp. So, for this blog post intro, all you need to do is pretend like you're writing a blog post -- forget the part about instructors and students.\n",
    "\n",
    "Below you'll see the structure of a DataCamp project: a series of \"tasks\" where each task consists of a title, a **single** text cell, and a **single** code cell. There are 8-12 tasks in a project and each task can have up to 10 lines of code. What you need to do:\n",
    "- Read through the template structure.\n",
    "- As best you can, divide your project as it is currently visualized in your mind into tasks.\n",
    "- Fill out the template structure for the first three tasks of your project.\n",
    "\n",
    "As you are completing each task, you may wish to consult the project notebook format in our [documentation](https://authoring.datacamp.com/projects/projects-format.html). Only the `@context` and `@solution` cells are relevant to this audition."
   ]
  },
  {
   "cell_type": "markdown",
   "metadata": {},
   "source": [
    "## 1. Title of the first task  (<= 55 chars) (sentence case)"
   ]
  },
  {
   "cell_type": "markdown",
   "metadata": {},
   "source": [
    "An exciting intro to the analysis. Provide context on the problem you're going to solve, the dataset(s) you're going to use, the relevant industry, etc. You may wish to briefly introduce the techniques you're going to use. Tell a story. Get students excited! It should at most have 1200 characters and/or 4 paragraphs.\n",
    "\n",
    "The most common error instructors make in **context cells** is referring to the student or the project. We want project notebooks to appear as a blog post or a data analysis. Bad: *\"In this project, you will...\"* Good: *\"We will...\"*\n",
    "\n",
    "Images are welcome additions to every Markdown cell, but especially this first one. Make sure the images you use have a [permissive license](https://support.google.com/websearch/answer/29508?hl=en) and display them using [Markdown](https://github.com/adam-p/markdown-here/wiki/Markdown-Cheatsheet#images)."
   ]
  },
  {
   "cell_type": "code",
   "execution_count": 1,
   "metadata": {
    "collapsed": true
   },
   "outputs": [],
   "source": [
    "# Code for the first task\n",
    "# It should consist of up to 10 lines of code\n",
    "# and take at most 5 seconds to execute on an average laptop."
   ]
  },
  {
   "cell_type": "markdown",
   "metadata": {},
   "source": [
    "## 2. Title of the second task (<= 55 chars)  (sentence case)"
   ]
  },
  {
   "cell_type": "markdown",
   "metadata": {},
   "source": [
    "Context / background / story / etc. It should at most have 800 characters and/or 3 paragraphs.\n",
    "\n",
    "The most common error instructors make in **context cells** is referring to the student or the project. We want project notebooks to appear as a blog post or a data analysis. Bad: *\"In this Project, you will...\"* Good: *\"We will...\"*"
   ]
  },
  {
   "cell_type": "code",
   "execution_count": 2,
   "metadata": {
    "collapsed": true
   },
   "outputs": [],
   "source": [
    "# Code for the second task\n",
    "# It should consist of up to 10 lines of code\n",
    "# and take at most 5 seconds to execute on an average laptop."
   ]
  },
  {
   "cell_type": "markdown",
   "metadata": {},
   "source": [
    "## 3. Title of the third task (<= 55 chars)  (sentence case)"
   ]
  },
  {
   "cell_type": "markdown",
   "metadata": {},
   "source": [
    "Context / background / story / etc. It should at most have 800 characters and/or 3 paragraphs.\n",
    "\n",
    "The most common error instructors make in **context cells** is referring to the student or the project. We want project notebooks to appear as a blog post or a data analysis. Bad: *\"In this project, you will...\"* Good: *\"We will...\"*"
   ]
  },
  {
   "cell_type": "code",
   "execution_count": 3,
   "metadata": {
    "collapsed": true
   },
   "outputs": [],
   "source": [
    "# Code for the third task\n",
    "# It should consist of up to 10 lines of code\n",
    "# and take at most 5 seconds to execute on an average laptop."
   ]
  },
  {
   "cell_type": "markdown",
   "metadata": {},
   "source": [
    "*Stop here! Only the three first tasks. :)*"
   ]
  }
 ],
 "metadata": {
  "kernelspec": {
   "display_name": "R",
   "language": "R",
   "name": "ir"
  },
  "language_info": {
   "codemirror_mode": "r",
   "file_extension": ".r",
   "mimetype": "text/x-r-source",
   "name": "R",
   "pygments_lexer": "r",
   "version": "3.5.0"
  }
 },
 "nbformat": 4,
 "nbformat_minor": 2
}
